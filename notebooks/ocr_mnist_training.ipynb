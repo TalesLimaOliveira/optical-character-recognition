{
 "cells": [
  {
   "cell_type": "code",
   "execution_count": null,
   "id": "c80f679b",
   "metadata": {},
   "outputs": [],
   "source": [
    "# Install required libraries (uncomment if running on Colab)\n",
    "!pip install torch torchvision matplotlib numpy"
   ]
  },
  {
   "cell_type": "code",
   "execution_count": null,
   "id": "5b1780dd",
   "metadata": {},
   "outputs": [],
   "source": [
    "import torch\n",
    "import torch.nn as nn\n",
    "import torch.optim as optim\n",
    "import torchvision\n",
    "import torchvision.transforms as transforms\n",
    "import numpy as np\n",
    "import matplotlib.pyplot as plt"
   ]
  },
  {
   "cell_type": "code",
   "execution_count": null,
   "id": "41c39ef8",
   "metadata": {},
   "outputs": [],
   "source": [
    "# 2. Device configuration and Hyperparameters\n",
    "# This section sets up the device (CPU or GPU) and defines the hyperparameters for training.\n",
    "\n",
    "# This line will automatically detect and use a CUDA-enabled GPU (like T4) if available.\n",
    "device = torch.device(\"cuda\" if torch.cuda.is_available() else \"cpu\")\n",
    "print(f\"Using device: {device}\")\n",
    "\n",
    "# Hyperparameters for training\n",
    "num_epochs = 5\n",
    "batch_size = 64\n",
    "lr = 0.001"
   ]
  },
  {
   "cell_type": "code",
   "execution_count": null,
   "id": "fab5dd1b",
   "metadata": {},
   "outputs": [],
   "source": [
    "# 3. Data Transformation and Loading\n",
    "transform = transforms.Compose([\n",
    "    transforms.ToTensor(),\n",
    "    transforms.Normalize((0.1307,), (0.3081,))\n",
    "])\n",
    "\n",
    "# Download and load the training data\n",
    "trainset = torchvision.datasets.MNIST(root='./data', train=True, download=True, transform=transform)\n",
    "trainloader = torch.utils.data.DataLoader(trainset, batch_size=batch_size, shuffle=True)\n",
    "\n",
    "# Download and load the test data\n",
    "testset = torchvision.datasets.MNIST(root='./data', train=False, download=True, transform=transform)\n",
    "testloader = torch.utils.data.DataLoader(testset, batch_size=1000, shuffle=False)"
   ]
  },
  {
   "cell_type": "code",
   "execution_count": null,
   "id": "4bf9a2e8",
   "metadata": {},
   "outputs": [],
   "source": [
    "# 4. Neural Network Architecture\n",
    "class Net(nn.Module):\n",
    "    def __init__(self):\n",
    "        super(Net, self).__init__()\n",
    "        self.fc1 = nn.Linear(28*28, 128)\n",
    "        self.fc2 = nn.Linear(128, 64)\n",
    "        self.fc3 = nn.Linear(64, 10)\n",
    "        self.relu = nn.ReLU()\n",
    "    \n",
    "    def forward(self, x):\n",
    "        x = x.view(-1, 28*28)\n",
    "        x = self.relu(self.fc1(x))\n",
    "        x = self.relu(self.fc2(x))\n",
    "        x = self.fc3(x)\n",
    "        return x\n",
    "\n",
    "model = Net().to(device)"
   ]
  },
  {
   "cell_type": "code",
   "execution_count": null,
   "id": "30f8afe6",
   "metadata": {},
   "outputs": [],
   "source": [
    "# 5. Initialize models and weights\n",
    "# Random weights\n",
    "def random_weights(m):\n",
    "    if isinstance(m, nn.Linear):\n",
    "        nn.init.uniform_(m.weight, a=-0.5, b=0.5)  # Example: uniform random weights\n",
    "        nn.init.zeros_(m.bias)  # Optional: zero bias\n",
    "\n",
    "def xavier_weights(m):\n",
    "    if isinstance(m, nn.Linear):\n",
    "        nn.init.xavier_uniform_(m.weight)\n",
    "        nn.init.zeros_(m.bias)\n",
    "\n",
    "# Initialize the model weights\n",
    "# model.load_state_dict(torch.load('models/checkpoint.pth', map_location=device))\n",
    "# model.apply(random_weights)\n",
    "model.apply(xavier_weights)"
   ]
  },
  {
   "cell_type": "code",
   "execution_count": null,
   "id": "ca1d989c",
   "metadata": {},
   "outputs": [],
   "source": [
    "# 6. Loss function and Optimizers\n",
    "# Define the loss function and optimizer for training the neural network.\n",
    "criterion = nn.CrossEntropyLoss()\n",
    "optimizer = optim.Adam(model.parameters(), lr=lr)"
   ]
  },
  {
   "cell_type": "code",
   "execution_count": null,
   "id": "4264d0ae",
   "metadata": {},
   "outputs": [],
   "source": [
    "# 7. Training Loop\n",
    "# Train the neural network on the MNIST training dataset. The training loop will display the loss for each epoch.\n",
    "\n",
    "for epoch in range(num_epochs):\n",
    "    model.train()\n",
    "    running_loss = 0.0\n",
    "    for images, labels in trainloader:\n",
    "        images, labels = images.to(device), labels.to(device)\n",
    "        optimizer.zero_grad()\n",
    "        outputs = model(images)\n",
    "        loss = criterion(outputs, labels)\n",
    "        loss.backward()\n",
    "        optimizer.step()\n",
    "        running_loss += loss.item()\n",
    "    print(f\"Epoch {epoch+1}/{num_epochs}, Loss: {running_loss/len(trainloader):.4f}\")"
   ]
  },
  {
   "cell_type": "code",
   "execution_count": null,
   "id": "42dcf173",
   "metadata": {},
   "outputs": [],
   "source": [
    "# 7.1 Save checkpoint after each epoch\n",
    "checkpoint_path = f\"mnist_checkpoint_epoch_{epoch+1}.pth\"\n",
    "torch.save({\n",
    "    'epoch': epoch + 1,\n",
    "    'model_state_dict': model.state_dict(),\n",
    "    'optimizer_state_dict': optimizer.state_dict(),\n",
    "    'loss': running_loss / len(trainloader),\n",
    "}, checkpoint_path)\n",
    "print(f\"Checkpoint saved to {checkpoint_path}\")"
   ]
  },
  {
   "cell_type": "code",
   "execution_count": null,
   "id": "28e00611",
   "metadata": {},
   "outputs": [],
   "source": [
    "# 8. Evaluate the model\n",
    "correct = 0\n",
    "total = 0\n",
    "model.eval()\n",
    "with torch.no_grad():\n",
    "    for images, labels in testloader:\n",
    "        images, labels = images.to(device), labels.to(device)\n",
    "        outputs = model(images)\n",
    "        _, predicted = torch.max(outputs.data, 1)\n",
    "        total += labels.size(0)\n",
    "        correct += (predicted == labels).sum().item()\n",
    "accuracy = 100 * correct / total\n",
    "print(f'Accuracy on the test set: {accuracy:.2f}%')"
   ]
  },
  {
   "cell_type": "code",
   "execution_count": null,
   "id": "63b89078",
   "metadata": {},
   "outputs": [],
   "source": [
    "# 9. Save the final trained model\n",
    "model_save_path = \"mnist_classifier_final.pth\"\n",
    "torch.save(model.state_dict(), model_save_path)\n",
    "print(f\"Training complete. Final model saved to {model_save_path}\")"
   ]
  }
 ],
 "metadata": {
  "language_info": {
   "name": "python"
  }
 },
 "nbformat": 4,
 "nbformat_minor": 5
}
